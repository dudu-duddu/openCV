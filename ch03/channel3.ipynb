{
  "nbformat": 4,
  "nbformat_minor": 0,
  "metadata": {
    "colab": {
      "provenance": []
    },
    "kernelspec": {
      "name": "python3",
      "display_name": "Python 3"
    },
    "language_info": {
      "name": "python"
    }
  },
  "cells": [
    {
      "cell_type": "code",
      "execution_count": null,
      "metadata": {
        "id": "Rs70MST1Wqgz"
      },
      "outputs": [],
      "source": [
        "from google.colab import drive\n",
        "import cv2\n",
        "from google.colab.patches import cv2_imshow\n",
        "import numpy as np\n",
        "import matplotlib as pit"
      ]
    },
    {
      "cell_type": "code",
      "source": [],
      "metadata": {
        "id": "rw35Ih6R0DIU"
      },
      "execution_count": null,
      "outputs": []
    }
  ]
}